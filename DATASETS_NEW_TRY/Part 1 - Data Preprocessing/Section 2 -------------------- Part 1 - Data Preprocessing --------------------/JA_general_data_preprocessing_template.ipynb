{
 "cells": [
  {
   "cell_type": "markdown",
   "metadata": {},
   "source": [
    "# <span style = \"color: purple\"> Plantilla de preprocesado\n",
    "    \n",
    "Esta plantilla general contempla toda la base a lo largo de las diferentes códigos"
   ]
  },
  {
   "cell_type": "code",
   "execution_count": 35,
   "metadata": {},
   "outputs": [],
   "source": [
    "# Importación de librerías\n",
    "import numpy  as np\n",
    "import pandas as pd\n",
    "import matplotlib.pyplot as plt\n",
    "#1 Librería para el procesamiento y limpiado de datos\n",
    "#2 Librería para variables categóricas (Labelencoder) o para estandarizar o escalar las variables (standardsacaler)\n",
    "#3 Librería para dividir los datos en conjuntos de entrenamiento y prueba\n",
    "from sklearn.impute import SimpleImputer #1\n",
    "from sklearn.preprocessing import LabelEncoder, OneHotEncoder, StandardScaler #2\n",
    "from sklearn.compose import ColumnTransformer\n",
    "from sklearn.model_selection import train_test_split #3"
   ]
  },
  {
   "cell_type": "code",
   "execution_count": 15,
   "metadata": {},
   "outputs": [],
   "source": [
    "#Importando el dataset\n",
    "dataset = pd.read_csv('Data.csv' )#Aqui se puede poner la ruta\n",
    "pd.options.display.float_format = '{:.0f}'.format #Aquí se le da formato a los datos"
   ]
  },
  {
   "cell_type": "markdown",
   "metadata": {},
   "source": [
    "# <span style = 'color:green'> 1. Creación de variables \n",
    "Para limpiar los datos es necesario separar variables dependientes e independientes. Para ello se crean sus respectivas variables."
   ]
  },
  {
   "cell_type": "code",
   "execution_count": 16,
   "metadata": {},
   "outputs": [],
   "source": [
    "#x = matriz de variables independientes\n",
    "#y = matriz de variables dependientes\n",
    "#i -> index\n",
    "#loc -> Localization\n",
    "#1 Permite extraer únicamente los valores del DF, no las posiciones y demás\n",
    "X = dataset.iloc[:, :-1].values #1 \n",
    "Y = dataset.iloc[:, 3].values"
   ]
  },
  {
   "cell_type": "markdown",
   "metadata": {},
   "source": [
    "# <span style = 'color:green'> 2. Tratamiento de los NaN\n",
    "    \n",
    "Cuando se presentan NaN (not asigned number) en un dataframe (DF) no es necesario borrar la información inmediante, ya que esta puede ser valiosa. Por esta razón, se sustituyen dichos valores con la media de los datos que se tienen."
   ]
  },
  {
   "cell_type": "code",
   "execution_count": 17,
   "metadata": {},
   "outputs": [],
   "source": [
    "#SimpleImputer es la clase\n",
    "#imputer es el objeto\n",
    "#axis = 0 (1) es la columna (fila)\n",
    "imputer = SimpleImputer(missing_values = np.nan, strategy= 'mean')\n",
    "imputer = imputer.fit(X[:,1:3])\n",
    "X[:,1:3] = imputer.transform(X[:,1:3])"
   ]
  },
  {
   "cell_type": "markdown",
   "metadata": {},
   "source": [
    "# <span style= 'color:green'> 3. Codificación de datos categóricos\n",
    "Las variables categóricas clasifican la información de acuerdo a diferentes características. Estas son variables cualitativas, por lo cual es necesario adecuarlas para poder implementarlas el algoritmos de predicción."
   ]
  },
  {
   "cell_type": "code",
   "execution_count": 18,
   "metadata": {},
   "outputs": [],
   "source": [
    "\"\"\"Con el label enconder se categorizan las variables. De esta forma, se obtiene un arreglo con\n",
    "diferentes números que representan cada una de las variables categóricas.\"\"\"\n",
    "#1 Primero se asigna una categoría a los países y se representan con números\n",
    "#2 Luego esa codificación se asigna a las columnas deseadas\n",
    "#3 Posteriomente se crean las variables dummy para quitar la ordinalidad de las categorias creadas\n",
    "labelencoder_X = LabelEncoder()#1\n",
    "X[:,0] =labelencoder_X.fit_transform(X[:,0])#2\n",
    "\n",
    "ct = ColumnTransformer(\n",
    "    [('one_hot_encoder', OneHotEncoder(categories='auto'), [0])],   \n",
    "    remainder='passthrough'                        \n",
    "                      )#3\n",
    "X = np.array(ct.fit_transform(X), dtype = float)\n",
    "Y = labelencoder_X.fit_transform(Y)"
   ]
  },
  {
   "cell_type": "markdown",
   "metadata": {},
   "source": [
    "# <span style = 'color: green'> 4. Conjuntos de entrenamiento y prueba\n",
    "Se escoge aproximadamente el 70 u 80 por ciento del conjunto de los datos para crear un modelo, que será el conjunto de entrenamiento del algoritmo. Con los datos restantes se crea el conjunto de prueba, que servirán para evaluar el modelo."
   ]
  },
  {
   "cell_type": "code",
   "execution_count": 21,
   "metadata": {},
   "outputs": [],
   "source": [
    "#1 El test size escoje el porcentaje de los datos que se utilizarán en el conjunto de entrenamiento. \n",
    "X_train, X_test, Y_train, Y_test = train_test_split(X, Y, test_size = 0.2, random_state = 0) #1"
   ]
  },
  {
   "cell_type": "markdown",
   "metadata": {},
   "source": [
    "# <span style = 'color: green'> 5. Escalado de los datos\n",
    "Cuando la diferencia de valores de una variable a otra es significativa, es necesario hacer un escalado o normalización de los datos para que estos sean comparables."
   ]
  },
  {
   "cell_type": "code",
   "execution_count": 39,
   "metadata": {},
   "outputs": [],
   "source": [
    "sc_X = StandardScaler()\n",
    "X_train = sc_X.fit_transform(X_train)\n",
    "X_test  = sc_X.transform(X_test) "
   ]
  },
  {
   "cell_type": "code",
   "execution_count": null,
   "metadata": {},
   "outputs": [],
   "source": []
  },
  {
   "cell_type": "code",
   "execution_count": null,
   "metadata": {},
   "outputs": [],
   "source": []
  }
 ],
 "metadata": {
  "kernelspec": {
   "display_name": "Python 3",
   "language": "python",
   "name": "python3"
  },
  "language_info": {
   "codemirror_mode": {
    "name": "ipython",
    "version": 3
   },
   "file_extension": ".py",
   "mimetype": "text/x-python",
   "name": "python",
   "nbconvert_exporter": "python",
   "pygments_lexer": "ipython3",
   "version": "3.7.6"
  }
 },
 "nbformat": 4,
 "nbformat_minor": 4
}
