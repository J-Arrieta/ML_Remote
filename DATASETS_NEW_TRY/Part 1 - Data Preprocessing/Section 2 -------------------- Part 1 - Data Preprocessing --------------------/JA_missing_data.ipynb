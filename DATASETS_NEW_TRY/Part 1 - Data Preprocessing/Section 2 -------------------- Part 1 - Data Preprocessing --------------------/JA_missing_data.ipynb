{
 "cells": [
  {
   "cell_type": "markdown",
   "metadata": {},
   "source": [
    "# <span style = 'color:purple'> Subrutina de datos faltantes"
   ]
  },
  {
   "cell_type": "code",
   "execution_count": 1,
   "metadata": {},
   "outputs": [],
   "source": [
    "# Importación de librerías\n",
    "import numpy  as np\n",
    "import pandas as pd\n",
    "import matplotlib.pyplot as plt\n",
    "#1 Librería para el procesamiento y limpiado de datos\n",
    "#2 Librería para variables categóricas (Labelencoder) o para estandarizar o escalar las variables (standardsacaler)\n",
    "#3 Librería para dividir los datos en conjuntos de entrenamiento y prueba\n",
    "from sklearn.impute import SimpleImputer #1\n",
    "from sklearn.preprocessing import LabelEncoder, OneHotEncoder, StandardScaler #2\n",
    "from sklearn.compose import ColumnTransformer\n",
    "from sklearn.model_selection import train_test_split #3"
   ]
  },
  {
   "cell_type": "code",
   "execution_count": 2,
   "metadata": {},
   "outputs": [],
   "source": [
    "#Importando el dataset\n",
    "dataset = pd.read_csv('Data.csv' )#Aqui se puede poner la ruta\n",
    "pd.options.display.float_format = '{:.0f}'.format #Aquí se le da formato a los datos"
   ]
  },
  {
   "cell_type": "code",
   "execution_count": 3,
   "metadata": {},
   "outputs": [],
   "source": [
    "#x = matriz de variables independientes\n",
    "#y = matriz de variables dependientes\n",
    "#i -> index\n",
    "#loc -> Localization\n",
    "#1 Permite extraer únicamente los valores del DF, no las posiciones y demás\n",
    "X = dataset.iloc[:, :-1].values #1 \n",
    "Y = dataset.iloc[:, 3].values"
   ]
  },
  {
   "cell_type": "code",
   "execution_count": 4,
   "metadata": {},
   "outputs": [],
   "source": [
    "#SimpleImputer es la clase\n",
    "#imputer es el objeto\n",
    "#axis = 0 (1) es la columna (fila)\n",
    "imputer = SimpleImputer(missing_values = np.nan, strategy= 'mean')\n",
    "imputer = imputer.fit(X[:,1:3])\n",
    "X[:,1:3] = imputer.transform(X[:,1:3])"
   ]
  },
  {
   "cell_type": "code",
   "execution_count": null,
   "metadata": {},
   "outputs": [],
   "source": []
  }
 ],
 "metadata": {
  "kernelspec": {
   "display_name": "Python 3",
   "language": "python",
   "name": "python3"
  },
  "language_info": {
   "codemirror_mode": {
    "name": "ipython",
    "version": 3
   },
   "file_extension": ".py",
   "mimetype": "text/x-python",
   "name": "python",
   "nbconvert_exporter": "python",
   "pygments_lexer": "ipython3",
   "version": "3.7.6"
  }
 },
 "nbformat": 4,
 "nbformat_minor": 4
}
