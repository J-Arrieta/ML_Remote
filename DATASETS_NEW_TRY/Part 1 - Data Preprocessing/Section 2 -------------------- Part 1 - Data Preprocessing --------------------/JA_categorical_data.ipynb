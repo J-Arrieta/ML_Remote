{
 "cells": [
  {
   "cell_type": "markdown",
   "metadata": {},
   "source": [
    "# <span style = 'color: purple'> Subrutina de datos categóricos"
   ]
  },
  {
   "cell_type": "code",
   "execution_count": 1,
   "metadata": {},
   "outputs": [],
   "source": [
    "# Importación de librerías\n",
    "import numpy  as np\n",
    "import pandas as pd\n",
    "import matplotlib.pyplot as plt\n",
    "#1 Librería para el procesamiento y limpiado de datos\n",
    "#2 Librería para variables categóricas (Labelencoder) o para estandarizar o escalar las variables (standardsacaler)\n",
    "#3 Librería para dividir los datos en conjuntos de entrenamiento y prueba\n",
    "from sklearn.impute import SimpleImputer #1\n",
    "from sklearn.preprocessing import LabelEncoder, OneHotEncoder, StandardScaler #2\n",
    "from sklearn.compose import ColumnTransformer\n",
    "from sklearn.model_selection import train_test_split #3"
   ]
  },
  {
   "cell_type": "code",
   "execution_count": 2,
   "metadata": {},
   "outputs": [],
   "source": [
    "#Importando el dataset\n",
    "dataset = pd.read_csv('Data.csv' )#Aqui se puede poner la ruta\n",
    "pd.options.display.float_format = '{:.0f}'.format #Aquí se le da formato a los datos"
   ]
  },
  {
   "cell_type": "code",
   "execution_count": 3,
   "metadata": {},
   "outputs": [],
   "source": [
    "#x = matriz de variables independientes\n",
    "#y = matriz de variables dependientes\n",
    "#i -> index\n",
    "#loc -> Localization\n",
    "#1 Permite extraer únicamente los valores del DF, no las posiciones y demás\n",
    "X = dataset.iloc[:, :-1].values #1 \n",
    "Y = dataset.iloc[:, 3].values"
   ]
  },
  {
   "cell_type": "code",
   "execution_count": 4,
   "metadata": {},
   "outputs": [],
   "source": [
    "\"\"\"Con el label enconder se categorizan las variables. De esta forma, se obtiene un arreglo con\n",
    "diferentes números que representan cada una de las variables categóricas.\"\"\"\n",
    "#1 Primero se asigna una categoría a los países y se representan con números\n",
    "#2 Luego esa codificación se asigna a las columnas deseadas\n",
    "#3 Posteriomente se crean las variables dummy para quitar la ordinalidad de las categorias creadas\n",
    "labelencoder_X = LabelEncoder()#1\n",
    "X[:,0] =labelencoder_X.fit_transform(X[:,0])#2\n",
    "\n",
    "ct = ColumnTransformer(\n",
    "    [('one_hot_encoder', OneHotEncoder(categories='auto'), [0])],   \n",
    "    remainder='passthrough'                        \n",
    "                      )#3\n",
    "X = np.array(ct.fit_transform(X), dtype = float)\n",
    "Y = labelencoder_X.fit_transform(Y)"
   ]
  },
  {
   "cell_type": "code",
   "execution_count": null,
   "metadata": {},
   "outputs": [],
   "source": []
  }
 ],
 "metadata": {
  "kernelspec": {
   "display_name": "Python 3",
   "language": "python",
   "name": "python3"
  },
  "language_info": {
   "codemirror_mode": {
    "name": "ipython",
    "version": 3
   },
   "file_extension": ".py",
   "mimetype": "text/x-python",
   "name": "python",
   "nbconvert_exporter": "python",
   "pygments_lexer": "ipython3",
   "version": "3.7.6"
  }
 },
 "nbformat": 4,
 "nbformat_minor": 4
}
